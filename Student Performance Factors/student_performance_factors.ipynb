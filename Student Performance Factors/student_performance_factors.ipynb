{
 "cells": [
  {
   "cell_type": "code",
   "execution_count": 1,
   "id": "0d8bd3be-fb79-4ad5-92da-c26100a75290",
   "metadata": {},
   "outputs": [],
   "source": [
    "import os\n",
    "import pandas as pd\n",
    "import sqlite3"
   ]
  },
  {
   "cell_type": "code",
   "execution_count": 2,
   "id": "cf6ff6a3-e374-46dd-bc07-dae3a1fb765c",
   "metadata": {},
   "outputs": [],
   "source": [
    "df = pd.read_csv('StudentPerformanceFactors.csv')"
   ]
  },
  {
   "cell_type": "code",
   "execution_count": 21,
   "id": "77b56ffe-0b82-47dd-ae36-09db173ca49c",
   "metadata": {},
   "outputs": [
    {
     "data": {
      "text/plain": [
       "6607"
      ]
     },
     "execution_count": 21,
     "metadata": {},
     "output_type": "execute_result"
    }
   ],
   "source": [
    "# 4. Load DataFrame to SQLite\n",
    "conn = sqlite3.connect('student_performance_factors.db')\n",
    "df.to_sql('student_performance_factors', conn, index=False, if_exists='replace')"
   ]
  },
  {
   "cell_type": "code",
   "execution_count": 22,
   "id": "94731c93-9da4-41c5-8a00-81951b3f7cf0",
   "metadata": {},
   "outputs": [],
   "source": [
    "def query_and_print(sql):\n",
    "    result = pd.read_sql(sql, conn)\n",
    "    print(result, '\\n')\n",
    "\n",
    "analysis_queries = {\n",
    "    'Does more study hours and Extra curricular activities lead to better scores?': '''\n",
    "        SELECT hours_studied, AVG(exam_score) AS avg_exam_score\n",
    "        FROM student_performance_factors\n",
    "        WHERE hours_studied > 10 \n",
    "          AND extracurricular_activities = 'Yes'\n",
    "        GROUP BY hours_studied\n",
    "        ORDER BY hours_studied DESC;\n",
    "    ''',\n",
    "\n",
    "    'What is the average study time by study hour ranges': '''\n",
    "        SELECT\n",
    "          CASE\n",
    "            WHEN hours_studied <= 5 THEN '1-5 hours'\n",
    "            WHEN hours_studied <= 10 THEN '6-10 hours'\n",
    "            WHEN hours_studied <= 15 THEN '11-15 hours'\n",
    "            ELSE '16+ hours' END AS hours_studied_range,\n",
    "          AVG(exam_score) AS avg_exam_score\n",
    "        FROM student_performance_factors\n",
    "        GROUP BY hours_studied_range\n",
    "        ORDER BY avg_exam_score DESC;\n",
    "    ''',\n",
    "    \n",
    "    'Profile of Top 30 Performing Students': '''\n",
    "    SELECT attendance,\n",
    "       hours_studied,\n",
    "       sleep_hours,\n",
    "       tutoring_sessions,\n",
    "       DENSE_RANK() OVER (ORDER BY exam_score DESC) AS exam_rank\n",
    "    FROM student_performance_factors\n",
    "    ORDER BY exam_rank\n",
    "    LIMIT 30;\n",
    "    '''\n",
    "}\n"
   ]
  },
  {
   "cell_type": "code",
   "execution_count": 23,
   "id": "c59bf8cd-1142-46e8-8acb-907724788d77",
   "metadata": {},
   "outputs": [
    {
     "name": "stdout",
     "output_type": "stream",
     "text": [
      "-- Does more study hours and Extra curricular activities lead to better scores? --\n",
      "    Hours_Studied  avg_exam_score\n",
      "0              43       78.000000\n",
      "1              39       75.000000\n",
      "2              38       73.500000\n",
      "3              37       73.000000\n",
      "4              36       70.428571\n",
      "5              35       72.312500\n",
      "6              34       71.187500\n",
      "7              33       70.333333\n",
      "8              32       71.325000\n",
      "9              31       70.553191\n",
      "10             30       71.432836\n",
      "11             29       70.256098\n",
      "12             28       69.825688\n",
      "13             27       69.776860\n",
      "14             26       68.801370\n",
      "15             25       69.000000\n",
      "16             24       68.483871\n",
      "17             23       68.207469\n",
      "18             22       67.721519\n",
      "19             21       67.710425\n",
      "20             20       67.218638\n",
      "21             19       67.211765\n",
      "22             18       67.024000\n",
      "23             17       66.401826\n",
      "24             16       66.586047\n",
      "25             15       65.901099\n",
      "26             14       65.862275\n",
      "27             13       64.976190\n",
      "28             12       64.966102\n",
      "29             11       65.145833 \n",
      "\n",
      "-- What is the average study time by study hour ranges --\n",
      "  hours_studied_range  avg_exam_score\n",
      "0           16+ hours       67.923363\n",
      "1         11-15 hours       65.204386\n",
      "2          6-10 hours       64.225490\n",
      "3           1-5 hours       62.627119 \n",
      "\n",
      "-- Profile of Top 30 Performing Students --\n",
      "    Attendance  Hours_Studied  Sleep_Hours  Tutoring_Sessions  exam_rank\n",
      "0           98             27            6                  5          1\n",
      "1           89             18            4                  3          2\n",
      "2           83             23            4                  1          3\n",
      "3           90             14            8                  4          3\n",
      "4           90             28            9                  0          4\n",
      "5           96             28            4                  1          4\n",
      "6           83             16            8                  2          4\n",
      "7           83             15            7                  2          5\n",
      "8           74             21            6                  1          5\n",
      "9           99             25            7                  0          5\n",
      "10          93             18            7                  2          6\n",
      "11          67             21            6                  1          7\n",
      "12          90             18            6                  1          7\n",
      "13          96             24            6                  2          8\n",
      "14          76             29            8                  2          8\n",
      "15          90             19            5                  0          8\n",
      "16          98             25            7                  1          8\n",
      "17          69             26            7                  0          9\n",
      "18          73             25            7                  2          9\n",
      "19          69             31            7                  2         10\n",
      "20          88              1            4                  3         10\n",
      "21          70             21            9                  1         11\n",
      "22          70             19            7                  0         12\n",
      "23          77             14            6                  1         12\n",
      "24          92             21            9                  2         12\n",
      "25          98             30            9                  1         13\n",
      "26          86             18            8                  2         13\n",
      "27          62             11            7                  3         13\n",
      "28          69              7            8                  1         14\n",
      "29          71             11            8                  1         14 \n",
      "\n"
     ]
    }
   ],
   "source": [
    "for desc, sql in analysis_queries.items():\n",
    "    print(f'-- {desc} --')\n",
    "    query_and_print(sql)\n",
    "\n",
    "conn.close()"
   ]
  },
  {
   "cell_type": "code",
   "execution_count": null,
   "id": "15c48599-335c-4dd3-8f8f-8a7c5be157d0",
   "metadata": {},
   "outputs": [],
   "source": []
  }
 ],
 "metadata": {
  "kernelspec": {
   "display_name": "Python 3 (ipykernel)",
   "language": "python",
   "name": "python3"
  },
  "language_info": {
   "codemirror_mode": {
    "name": "ipython",
    "version": 3
   },
   "file_extension": ".py",
   "mimetype": "text/x-python",
   "name": "python",
   "nbconvert_exporter": "python",
   "pygments_lexer": "ipython3",
   "version": "3.13.7"
  }
 },
 "nbformat": 4,
 "nbformat_minor": 5
}
